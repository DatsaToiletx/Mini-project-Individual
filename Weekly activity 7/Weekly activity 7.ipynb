{
 "cells": [
  {
   "cell_type": "markdown",
   "id": "b0c9277c",
   "metadata": {},
   "source": [
    "# Setup"
   ]
  },
  {
   "cell_type": "code",
   "execution_count": 1,
   "id": "c92e672a",
   "metadata": {},
   "outputs": [],
   "source": [
    "import numpy as np\n",
    "import cv2 as cv\n",
    "import matplotlib.pyplot as plt"
   ]
  },
  {
   "cell_type": "markdown",
   "id": "27056991",
   "metadata": {},
   "source": [
    "# Weekly activity 7\n",
    "\n",
    "### 1. Apply equalization twice"
   ]
  },
  {
   "cell_type": "code",
   "execution_count": 2,
   "id": "dc5cebcf",
   "metadata": {},
   "outputs": [],
   "source": [
    "img = cv.imread('winter.jfif', 0)\n",
    "\n",
    "# histogram equalization\n",
    "eq = cv.equalizeHist(img)\n",
    "eq2 = cv.equalizeHist(eq)\n",
    "\n",
    "cv.imshow('result', np.hstack((img, eq, eq2)))\n",
    "cv.waitKey(0)\n",
    "cv.destroyAllWindows()"
   ]
  },
  {
   "cell_type": "markdown",
   "id": "50ac8474",
   "metadata": {},
   "source": [
    "no changes on equalizing twice\n",
    "\n",
    "### 2. Load the image and then:  \n",
    "- experiment with kernel size"
   ]
  },
  {
   "cell_type": "code",
   "execution_count": 31,
   "id": "63e93b71",
   "metadata": {},
   "outputs": [],
   "source": [
    "img = cv.imread('electronic.jfif', 0)\n",
    "\n",
    "sobelx = cv.Sobel(img, cv.CV_64F, 1, 0, ksize = 1)\n",
    "sobely = cv.Sobel(img, cv.CV_64F, 0, 1, ksize = 1)\n",
    "\n",
    "grad_mag_L2 = cv.magnitude(sobelx, sobely)\n",
    "grad_mag_L2 = cv.convertScaleAbs(grad_mag_L2)\n",
    "\n",
    "cv.imshow('result', np.hstack((img, grad_mag_L2)))\n",
    "cv.waitKey(0)\n",
    "cv.destroyAllWindows()"
   ]
  },
  {
   "cell_type": "markdown",
   "id": "00ab3a92",
   "metadata": {},
   "source": [
    "Kernel size of 1 produce result with the minimal noise  \n",
    "\n",
    "- perform edge detection with and without image moothing"
   ]
  },
  {
   "cell_type": "code",
   "execution_count": 6,
   "id": "191ecdd2",
   "metadata": {},
   "outputs": [],
   "source": [
    "img_blur = cv.GaussianBlur(img, (5, 5), 0)\n",
    "\n",
    "sobelx_blur = cv.Sobel(img_blur, cv.CV_64F, 1, 0, ksize = 1)\n",
    "sobely_blur = cv.Sobel(img_blur, cv.CV_64F, 0, 1, ksize = 1)\n",
    "\n",
    "grad_mag_L2_blur = cv.magnitude(sobelx_blur, sobely_blur)\n",
    "grad_mag_L2_blur = cv.convertScaleAbs(grad_mag_L2_blur)\n",
    "\n",
    "cv.imshow('result', np.hstack((img, grad_mag_L2, grad_mag_L2_blur)))\n",
    "cv.waitKey(0)\n",
    "cv.destroyAllWindows()"
   ]
  },
  {
   "cell_type": "markdown",
   "id": "f394a18c",
   "metadata": {},
   "source": [
    "- Try Laplacian of Gaussian"
   ]
  },
  {
   "cell_type": "code",
   "execution_count": 30,
   "id": "e97c2b9e",
   "metadata": {},
   "outputs": [],
   "source": [
    "laplacian = cv.Laplacian(img_blur, cv.CV_64F, ksize = 3)\n",
    "\n",
    "laplacian_8u = cv.convertScaleAbs(laplacian)\n",
    "\n",
    "cv.imshow('result', laplacian_8u)\n",
    "cv.waitKey(0)\n",
    "cv.destroyAllWindows()"
   ]
  },
  {
   "cell_type": "markdown",
   "id": "55838dee",
   "metadata": {},
   "source": [
    "The optimal pathway is gaussian smoothing then sobel edge detection as the sobel edge detection with kernel size of 1 have the minimal noises."
   ]
  },
  {
   "cell_type": "markdown",
   "id": "0056be8f",
   "metadata": {},
   "source": [
    "### 3. experiment with different edge detectors"
   ]
  },
  {
   "cell_type": "code",
   "execution_count": 38,
   "id": "b93b54c4",
   "metadata": {},
   "outputs": [],
   "source": [
    "img = cv.imread('pineapple.jfif', 0)\n",
    "blur = cv.GaussianBlur(img, (5, 5), 0)\n",
    "\n",
    "# Sobel\n",
    "sobelx = cv.Sobel(blur, cv.CV_64F, 1, 0, ksize = 3)\n",
    "sobely = cv.Sobel(blur, cv.CV_64F, 0, 1, ksize = 3)\n",
    "grad_mag_L2 = cv.magnitude(sobelx, sobely)\n",
    "grad_mag_L2 = cv.convertScaleAbs(grad_mag_L2)\n",
    "\n",
    "# Laplacian\n",
    "laplacian = cv.Laplacian(blur, cv.CV_64F, ksize = 3)\n",
    "laplacian_8u = cv.convertScaleAbs(laplacian)\n",
    "\n",
    "# prewitt\n",
    "kernelx = np.array([[1,1,1],[0,0,0],[-1,-1,-1]])\n",
    "kernely = np.array([[-1,0,1],[-1,0,1],[-1,0,1]])\n",
    "img_prewittx = cv.filter2D(blur, -1, kernelx)\n",
    "img_prewitty = cv.filter2D(blur, -1, kernely)\n",
    "\n",
    "# Scharr\n",
    "scharrx = cv.Scharr(blur, cv.CV_64F, 1, 0, 3)\n",
    "scharry = cv.Scharr(blur, cv.CV_64F, 0, 1, 3)\n",
    "grad_mag_L2_scharr = cv.magnitude(scharrx, scharry)\n",
    "grad_mag_L2_scharr = cv.convertScaleAbs(grad_mag_L2_scharr)\n",
    "\n",
    "# Canny\n",
    "output_canny = cv.Canny(blur, 100, 200, 3)\n",
    "\n",
    "cv.imshow('result', np.hstack((img, grad_mag_L2, laplacian_8u, img_prewittx + img_prewitty, grad_mag_L2_scharr, output_canny)))\n",
    "cv.waitKey(0)\n",
    "cv.destroyAllWindows()"
   ]
  },
  {
   "cell_type": "markdown",
   "id": "aadee1da",
   "metadata": {},
   "source": [
    "- Sobel: result with most edges detected\n",
    "- Laplacian: edge that is simlar contrast hard to detect\n",
    "- Prewitt:  result same as sobel but less edge detected on the same colour\n",
    "- Scharr: result with all edges detected\n",
    "- Canny: Cleanest result  \n",
    "\n",
    "### 4. Identify the white object (laptop)"
   ]
  },
  {
   "cell_type": "code",
   "execution_count": 42,
   "id": "f4dc3ba5",
   "metadata": {},
   "outputs": [],
   "source": [
    "img = cv.imread('electronic.jfif')\n",
    "gray = cv.cvtColor(img, cv.COLOR_BGR2GRAY) # convert to grayscale\n",
    "\n",
    "# CLAHE\n",
    "clahe = cv.createCLAHE(clipLimit = 7.0, tileGridSize = (15, 15))\n",
    "dst = clahe.apply(gray)\n",
    "\n",
    "# blur the image then threshold\n",
    "blur = cv.GaussianBlur(dst, (7, 7), 0)\n",
    "_, th = cv.threshold(blur, 190, 255, cv.THRESH_BINARY)\n",
    "\n",
    "# find contour\n",
    "contour, hierarchy = cv.findContours(th, cv.RETR_TREE, cv.CHAIN_APPROX_SIMPLE)\n",
    "\n",
    "# loop the contour to find the laptop contour\n",
    "for c in contour:\n",
    "    area = cv.contourArea(c)\n",
    "    if area >= 900:\n",
    "        cnt = c\n",
    "        x, y, w, h = cv.boundingRect(cnt)\n",
    "        cv.rectangle(img, (x,y), (x+w, y+h), (0, 255, 0), 2)\n",
    "    else:\n",
    "        continue\n",
    "\n",
    "cv.imshow('result', img)\n",
    "cv.waitKey(0)\n",
    "cv.destroyAllWindows()"
   ]
  }
 ],
 "metadata": {
  "kernelspec": {
   "display_name": "Python 3 (ipykernel)",
   "language": "python",
   "name": "python3"
  },
  "language_info": {
   "codemirror_mode": {
    "name": "ipython",
    "version": 3
   },
   "file_extension": ".py",
   "mimetype": "text/x-python",
   "name": "python",
   "nbconvert_exporter": "python",
   "pygments_lexer": "ipython3",
   "version": "3.10.5"
  }
 },
 "nbformat": 4,
 "nbformat_minor": 5
}
