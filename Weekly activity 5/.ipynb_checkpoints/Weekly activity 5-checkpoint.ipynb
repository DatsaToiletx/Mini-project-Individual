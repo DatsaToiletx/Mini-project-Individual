{
 "cells": [
  {
   "cell_type": "markdown",
   "id": "59075024",
   "metadata": {},
   "source": [
    "# Setup"
   ]
  },
  {
   "cell_type": "code",
   "execution_count": 1,
   "id": "b0a19c38",
   "metadata": {},
   "outputs": [
    {
     "data": {
      "text/plain": [
       "True"
      ]
     },
     "execution_count": 1,
     "metadata": {},
     "output_type": "execute_result"
    }
   ],
   "source": [
    "import sys\n",
    "# Python 3.7 is required\n",
    "assert sys.version_info >= (3,7)\n",
    "\n",
    "import cv2 as cv\n",
    "import numpy as np\n",
    "\n",
    "# Make sure that optimization is enabled\n",
    "if not cv.useOptimized():\n",
    "    cv.setUseOptimized(True)\n",
    "\n",
    "cv.useOptimized()"
   ]
  },
  {
   "cell_type": "markdown",
   "id": "5940cbb8",
   "metadata": {},
   "source": [
    "# Weekly activity 5\n",
    "### 1. Convert the code into a function."
   ]
  },
  {
   "cell_type": "code",
   "execution_count": null,
   "id": "5ea46bf3",
   "metadata": {},
   "outputs": [],
   "source": [
    "def crop_grid(img, num_horizontal_grid, num_vertical_grid, line_color):\n",
    "    # img is the source image\n",
    "    # num_horizontal_grid and num_vertical_grid are the number of patches along x and y axes.\n",
    "    # line_color is the color of the grid line.\n",
    "    # The output of the function should be image with grids\n",
    "    \n",
    "    img_copy = img.copy()\n",
    "    height, width = img_copy.shape[:2]\n",
    "    \n",
    "    #M and N are used to calculate the number of pixel per grid\n",
    "    M, N = int(height/num_horizontal_grid), int(width/num_vertical_grid)\n",
    "    x1, y1 = 0, 0 # Coordinate to draw grids\n",
    "    \n",
    "    for y in range(0, height, M):\n",
    "        for x in range(0, width, N):\n",
    "            # x1 and y1 are the lower right coordinate of the grid to draw\n",
    "            y1 = y + M    \n",
    "            x1 = x + N\n",
    "            \n",
    "            # readjust if lower right coordinate exceeds image height and width\n",
    "            if x1 >= width and y1 >= height:\n",
    "                x1 = width - 1\n",
    "                y1 = height - 1\n",
    "                cv.rectangle(img_copy, (x, y), (x1, y1), line_color, 1)\n",
    "                \n",
    "            # if lower right y-coordinate exceeds patch height\n",
    "            elif y1 >= height:\n",
    "                y1 = height - 1\n",
    "                cv.rectangle(img_copy, (x, y), (x1, y1), line_color, 1)\n",
    "\n",
    "            # if lower right x-coordinate exceeds patch width\n",
    "            elif x1 >= width:\n",
    "                x1 = width - 1\n",
    "                cv.rectangle(img_copy, (x, y), (x1, y1), line_color, 1)\n",
    "\n",
    "            else:\n",
    "                cv.rectangle(img_copy, (x, y), (x1, y1), line_color, 1)\n",
    "    \n",
    "    cv.imshow('patched image', img_copy)\n",
    "    cv.waitKey(0)\n",
    "    cv.destroyAllWindows()"
   ]
  },
  {
   "cell_type": "code",
   "execution_count": null,
   "id": "722d3b76",
   "metadata": {},
   "outputs": [],
   "source": [
    "img = cv.imread('dog.jfif')\n",
    "\n",
    "num_horizontal_grid, num_vertical_grid = 2, 3\n",
    "color = [0, 0, 190]\n",
    "crop_grid(img, num_horizontal_grid, num_vertical_grid, color)"
   ]
  },
  {
   "cell_type": "markdown",
   "id": "197e03cc",
   "metadata": {},
   "source": [
    "### 2. Display smooth transition of two images blending."
   ]
  },
  {
   "cell_type": "code",
   "execution_count": null,
   "id": "a31cd711",
   "metadata": {},
   "outputs": [],
   "source": [
    "# get a array of int in the interval of 2\n",
    "list_int = np.arange(0, 100, 1)\n",
    "# declare a float array to use as alpha value\n",
    "list_float = np.zeros(len(list_int))\n",
    "\n",
    "for i in range(0, len(list_int), 1):\n",
    "    list_float[i] = list_int[i] / 100\n",
    "\n",
    "print(list_float)"
   ]
  },
  {
   "cell_type": "code",
   "execution_count": null,
   "id": "605af12f",
   "metadata": {},
   "outputs": [],
   "source": [
    "img1 = cv.imread('lena.jfif')\n",
    "img2 = cv.imread('coins.jfif')\n",
    "\n",
    "# Resize img2\n",
    "new_shape = img1.shape[:2]\n",
    "img2 = cv.resize(img2, new_shape)\n",
    "\n",
    "# show image multiple in for loop to achieve smooth transition\n",
    "for i in range(0, len(list_float), 1):\n",
    "    dst = cv.addWeighted(img1, list_float[i], img2, (1-list_float[i]), 0)\n",
    "    cv.imshow('blend_image', dst)\n",
    "    cv.waitKey(20)\n",
    "\n",
    "cv.waitKey(0)\n",
    "cv.destroyAllWindows()"
   ]
  },
  {
   "cell_type": "markdown",
   "id": "6ec3486b",
   "metadata": {},
   "source": [
    "### 3. Rotate image by 45 degrees without cropping the sides of the image"
   ]
  },
  {
   "cell_type": "code",
   "execution_count": null,
   "id": "d629a077",
   "metadata": {},
   "outputs": [],
   "source": [
    "img = cv.imread('lena.jfif')\n",
    "rows, cols = img.shape[:2]\n",
    "\n",
    "# Center coordinate\n",
    "image_center = ((cols-1)/2.0, (rows-1)/2.0)\n",
    "M = cv.getRotationMatrix2D(image_center, 45, 1)\n",
    "\n",
    "# Calculate the cosine and sine and take the absolutes of those\n",
    "abs_cos = abs(M[0,0]) \n",
    "abs_sin = abs(M[0,1])\n",
    "\n",
    "# get the new width and height\n",
    "new_width = int(rows * abs_sin + cols * abs_cos)\n",
    "new_height = int(rows * abs_cos + cols * abs_sin)\n",
    "\n",
    "# Setting the new center coordinate to make sure the image is center\n",
    "M[0, 2] += new_width/2 - image_center[0]\n",
    "M[1, 2] += new_height/2 - image_center[1]\n",
    "\n",
    "dst = cv.warpAffine(img, M, (new_width, new_height))\n",
    "\n",
    "cv.imshow('rotated_image', dst)\n",
    "cv.waitKey(0)\n",
    "cv.destroyAllWindows()"
   ]
  },
  {
   "cell_type": "markdown",
   "id": "c0a2241e",
   "metadata": {},
   "source": [
    "### 4. Put flower into the bee image"
   ]
  },
  {
   "cell_type": "code",
   "execution_count": 35,
   "id": "baa708a5",
   "metadata": {},
   "outputs": [],
   "source": [
    "img1 = cv.imread('native-bee.png')\n",
    "img2 = cv.imread('flower.jfif')\n",
    "\n",
    "# change flower image from BGR to GRAY for getting the mask and resize to fit the bee image\n",
    "img2gray = cv.cvtColor(img2,cv.COLOR_BGR2GRAY)\n",
    "resized_img2 = np.zeros((img1.shape[0], img1.shape[1]), dtype = np.uint8)\n",
    "resized_img2[35:120, 88:175] = img2gray[35:120, 88:175]\n",
    "\n",
    "ret, mask = cv.threshold(resized_img2, 70, 255, cv.THRESH_BINARY)\n",
    "mask_inv = cv.bitwise_not(mask) # inverted mask is used to highlight what part need to be kept in bee image\n",
    "\n",
    "# get another image in BGR to paste it into bee image\n",
    "resized_img2_rgb = cv.cvtColor(resized_img2, cv.COLOR_GRAY2BGR)\n",
    "resized_img2_rgb[35:120, 88:175] = img2[35:120, 88:175]\n",
    "\n",
    "# black-out the area of the flower in ROI\n",
    "ROI = cv.bitwise_and(img1, img1, mask = mask_inv)\n",
    "\n",
    "# Take only region of flower from the image.\n",
    "flower = cv.bitwise_and(resized_img2_rgb, resized_img2_rgb, mask = mask)\n",
    "\n",
    "# Put flower in ROI\n",
    "dst = cv.add(ROI, flower)\n",
    "\n",
    "cv.imshow('flower_bee', dst)\n",
    "cv.waitKey(0)\n",
    "cv.destroyAllWindows()"
   ]
  }
 ],
 "metadata": {
  "kernelspec": {
   "display_name": "Python 3 (ipykernel)",
   "language": "python",
   "name": "python3"
  },
  "language_info": {
   "codemirror_mode": {
    "name": "ipython",
    "version": 3
   },
   "file_extension": ".py",
   "mimetype": "text/x-python",
   "name": "python",
   "nbconvert_exporter": "python",
   "pygments_lexer": "ipython3",
   "version": "3.10.5"
  }
 },
 "nbformat": 4,
 "nbformat_minor": 5
}
