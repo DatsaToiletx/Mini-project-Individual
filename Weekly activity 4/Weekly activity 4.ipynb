{
 "cells": [
  {
   "cell_type": "code",
   "execution_count": 1,
   "id": "aa96ffbe",
   "metadata": {},
   "outputs": [
    {
     "data": {
      "text/plain": [
       "True"
      ]
     },
     "execution_count": 1,
     "metadata": {},
     "output_type": "execute_result"
    }
   ],
   "source": [
    "import sys\n",
    "# Python 3.7 is required\n",
    "assert sys.version_info >= (3,7)\n",
    "\n",
    "import cv2 as cv\n",
    "import numpy as np\n",
    "\n",
    "# For reproducibility,\n",
    "np.random.seed(99)\n",
    "\n",
    "# Make sure that optimization is enabled\n",
    "if not cv.useOptimized():\n",
    "    cv.setUseOptimized(True)\n",
    "\n",
    "cv.useOptimized()"
   ]
  },
  {
   "cell_type": "markdown",
   "id": "f6b138ae",
   "metadata": {},
   "source": [
    "# Weekly activity 4\n",
    "1. Two ways to display multiple images\n",
    "- open multile windows"
   ]
  },
  {
   "cell_type": "code",
   "execution_count": 15,
   "id": "7896c3f2",
   "metadata": {},
   "outputs": [],
   "source": [
    "img1 = cv.imread('lena.png')\n",
    "img2 = cv.imread('dog.jfif')\n",
    "\n",
    "cv.imshow('lena', img1)\n",
    "cv.imshow('dog', img2)\n",
    "cv.waitKey(0)\n",
    "cv.destroyAllWindows()"
   ]
  },
  {
   "cell_type": "markdown",
   "id": "76e7b9f4",
   "metadata": {},
   "source": [
    "- open in one window by utilizinig concatenation"
   ]
  },
  {
   "cell_type": "code",
   "execution_count": 13,
   "id": "67a2434f",
   "metadata": {},
   "outputs": [
    {
     "name": "stdout",
     "output_type": "stream",
     "text": [
      "(225, 225, 3) \t (168, 300, 3)\n"
     ]
    }
   ],
   "source": [
    "img1 = cv.imread('lena.png')\n",
    "img2 = cv.imread('dog.jfif')\n",
    "\n",
    "print(img1.shape, '\\t', img2.shape) # before resizing"
   ]
  },
  {
   "cell_type": "code",
   "execution_count": 17,
   "id": "0a0f9ec9",
   "metadata": {},
   "outputs": [
    {
     "name": "stdout",
     "output_type": "stream",
     "text": [
      "(168, 168, 3) \t (168, 300, 3)\n"
     ]
    }
   ],
   "source": [
    "# rezie the bigger image to fit with the smaller one\n",
    "img1_resize = cv.resize(img1, (int(img1.shape[1] * img2.shape[0] / img1.shape[0]), # bigger image width * smaller image height / bigger image width = new resized height to maintain aspect ratio\n",
    "                              img2.shape[0])) # use smaller image height\n",
    "                               \n",
    "print(img1_resize.shape, '\\t', img2.shape)"
   ]
  },
  {
   "cell_type": "code",
   "execution_count": 18,
   "id": "d8bbc202",
   "metadata": {},
   "outputs": [],
   "source": [
    "# display image in concatenation\n",
    "img_concat = cv.hconcat([img1_resize, img2])\n",
    "cv.imshow('concat image', img_concat)\n",
    "cv.waitKey(0)\n",
    "cv.destroyAllWindows()"
   ]
  },
  {
   "cell_type": "markdown",
   "id": "c5b96bbd",
   "metadata": {},
   "source": [
    "2. Write code to load the video, resize it and save it as seperate file\n",
    "\n",
    "First find out the height, width and frame rate"
   ]
  },
  {
   "cell_type": "code",
   "execution_count": 37,
   "id": "bbbd68bc",
   "metadata": {},
   "outputs": [
    {
     "name": "stdout",
     "output_type": "stream",
     "text": [
      "Height: 1920, Width: 1080, Frames per second(FPS): 60.0\n"
     ]
    }
   ],
   "source": [
    "# Create a VideoCapture object\n",
    "cap = cv.VideoCapture('img_pexels.mp4')\n",
    "\n",
    "\n",
    "# get height and width from frame.shape\n",
    "ret, frame = cap.read()\n",
    "height, width, layers = frame.shape\n",
    "\n",
    "# get frame rate and print out width, height and frame rate\n",
    "fps = cap.get(cv.CAP_PROP_FPS)\n",
    "print (f\"Height: {height}, Width: {width}, Frames per second(FPS): {fps}\")"
   ]
  },
  {
   "cell_type": "markdown",
   "id": "70d526ed",
   "metadata": {},
   "source": [
    "\n",
    "Resize the video with smaller frame to display aand save"
   ]
  },
  {
   "cell_type": "code",
   "execution_count": 55,
   "id": "afd07d68",
   "metadata": {},
   "outputs": [
    {
     "name": "stdout",
     "output_type": "stream",
     "text": [
      "(768, 432, 3)Can't receive frame.\n"
     ]
    }
   ],
   "source": [
    "# get new height and width\n",
    "new_height = height / 2.5 \n",
    "new_width = width / 2.5\n",
    "\n",
    "\n",
    "cap = cv.VideoCapture('img_pexels.mp4')\n",
    "\n",
    "# Check if the object has been created successfully\n",
    "if not cap.isOpened():\n",
    "    print(\"Unable to create video\")\n",
    "    \n",
    "# Define the codec and create VideoWriter object\n",
    "fourcc = cv.VideoWriter_fourcc('M', 'J', 'P', 'G')\n",
    "fps = 60\n",
    "out = cv.VideoWriter('smaller_img_pexels.avi', fourcc, fps, (int(new_width), int(new_height)))\n",
    "\n",
    "# Read until the video is completed.\n",
    "while cap.isOpened():\n",
    "    ret, frame = cap.read()\n",
    "    \n",
    "    # if frame is read then ret is True\n",
    "    if not ret:\n",
    "        print(\"Can't receive frame.\")\n",
    "        break\n",
    "    \n",
    "    frame_resize = cv.resize(frame, (int(new_width), int(new_height)))\n",
    "    cv.imshow('frame', frame_resize)\n",
    "    # write the frame to new file\n",
    "    out.write(frame_resize)\n",
    "    \n",
    "    # to check the rezied frame size\n",
    "    print(f\"\\r{frame_resize.shape}\", end=\"\")\n",
    "    \n",
    "    # Press Esc key to exit (27 is ASCII code for Esc). cv.waitKey() returns 32 bit integer values. You can find the ASCII table\n",
    "    # on this URL: https://theasciicode.com.ar/\n",
    "    if cv.waitKey(1) & 0xFF == 27:\n",
    "        break\n",
    "\n",
    "# destroy the constructor\n",
    "cap.release()\n",
    "out.release()\n",
    "cv.destroyAllWindows()"
   ]
  },
  {
   "cell_type": "markdown",
   "id": "a2758f9d",
   "metadata": {},
   "source": [
    "3. create random noise color and grayscle image\n",
    "\n",
    "Create 512x512 2d array with zeros"
   ]
  },
  {
   "cell_type": "code",
   "execution_count": 42,
   "id": "e54e52bd",
   "metadata": {},
   "outputs": [
    {
     "name": "stdout",
     "output_type": "stream",
     "text": [
      "[[0 0 0 ... 0 0 0]\n",
      " [0 0 0 ... 0 0 0]\n",
      " [0 0 0 ... 0 0 0]\n",
      " ...\n",
      " [0 0 0 ... 0 0 0]\n",
      " [0 0 0 ... 0 0 0]\n",
      " [0 0 0 ... 0 0 0]] \t (512, 512)\n"
     ]
    }
   ],
   "source": [
    "img = np.zeros((512, 512), dtype = np.uint8)\n",
    "print(img, \"\\t\", img.shape)"
   ]
  },
  {
   "cell_type": "markdown",
   "id": "c89a141e",
   "metadata": {},
   "source": [
    "convert 2d array with zeros into 3d array with 3 color channels"
   ]
  },
  {
   "cell_type": "code",
   "execution_count": 50,
   "id": "1cf26976",
   "metadata": {},
   "outputs": [
    {
     "data": {
      "text/plain": [
       "(512, 512, 3)"
      ]
     },
     "execution_count": 50,
     "metadata": {},
     "output_type": "execute_result"
    }
   ],
   "source": [
    "img_rgb = cv.cvtColor(img, cv.COLOR_GRAY2BGR)\n",
    "img_rgb.shape"
   ]
  },
  {
   "cell_type": "markdown",
   "id": "68a32d9a",
   "metadata": {},
   "source": [
    "create random color image with cv.randu"
   ]
  },
  {
   "cell_type": "code",
   "execution_count": 49,
   "id": "4b392831",
   "metadata": {},
   "outputs": [],
   "source": [
    "random_img_rgb = cv.randu(img_rgb, (0, 0, 0), (255, 255, 255))\n",
    "cv.imshow('random color image', random_img_rgb)\n",
    "cv.waitKey(0)\n",
    "cv.destroyAllWindows()"
   ]
  },
  {
   "cell_type": "markdown",
   "id": "4cd49658",
   "metadata": {},
   "source": [
    "convert rnadom color image into grayscale image"
   ]
  },
  {
   "cell_type": "code",
   "execution_count": 54,
   "id": "d83a1947",
   "metadata": {},
   "outputs": [],
   "source": [
    "gray_img = cv.cvtColor(random_img_rgb, cv.COLOR_BGR2GRAY)\n",
    " \n",
    "cv.imshow('random grayscale image', gray_img)\n",
    "cv.waitKey(0) \n",
    "cv.destroyAllWindows()"
   ]
  }
 ],
 "metadata": {
  "kernelspec": {
   "display_name": "Python 3 (ipykernel)",
   "language": "python",
   "name": "python3"
  },
  "language_info": {
   "codemirror_mode": {
    "name": "ipython",
    "version": 3
   },
   "file_extension": ".py",
   "mimetype": "text/x-python",
   "name": "python",
   "nbconvert_exporter": "python",
   "pygments_lexer": "ipython3",
   "version": "3.10.5"
  }
 },
 "nbformat": 4,
 "nbformat_minor": 5
}
